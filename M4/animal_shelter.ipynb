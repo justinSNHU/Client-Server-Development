{
 "cells": [
  {
   "cell_type": "code",
   "execution_count": 1,
   "id": "65feadbd",
   "metadata": {},
   "outputs": [],
   "source": [
    "from animal_shelter import AnimalShelter"
   ]
  },
  {
   "cell_type": "code",
   "execution_count": 2,
   "id": "4dc265df",
   "metadata": {},
   "outputs": [],
   "source": [
    "animals = AnimalShelter()"
   ]
  },
  {
   "cell_type": "code",
   "execution_count": 3,
   "id": "799a9efd",
   "metadata": {},
   "outputs": [],
   "source": [
    "data = { 'age_upon_outcome': \"5 years\",\n",
    "             'animal_id': \"A55555\",\n",
    "             'animal_type': \"Dog\",\n",
    "             'breed': \"American Bulldog\",\n",
    "             'color': \"White\",\n",
    "             'date_of_birth': \"2019-05-05\",\n",
    "             'datetime': \"2000-05-05 18:00:00\",\n",
    "             'monthyear': \"2000-05-05 18:00:00\",\n",
    "             'name': \"Buddy\",\n",
    "             'outcome_subtype': \"\",\n",
    "             'outcome_type': \"Adoption\",\n",
    "             'sex_upon_outcome': \"unknown\",\n",
    "             'location_lat': 32.1234567891234,\n",
    "             'location_long': -95.1234567891234,\n",
    "             'age_upon_outcome_in_weeks': 30.1234567891234\n",
    "       }"
   ]
  },
  {
   "cell_type": "code",
   "execution_count": 4,
   "id": "9d5ca306",
   "metadata": {},
   "outputs": [
    {
     "name": "stdout",
     "output_type": "stream",
     "text": [
      "True\n"
     ]
    }
   ],
   "source": [
    "print(animals.create(data))\n"
   ]
  },
  {
   "cell_type": "code",
   "execution_count": 5,
   "id": "54fd37f6",
   "metadata": {},
   "outputs": [
    {
     "name": "stdout",
     "output_type": "stream",
     "text": [
      "False\n"
     ]
    }
   ],
   "source": [
    "print(animals.create(data))\n"
   ]
  },
  {
   "cell_type": "code",
   "execution_count": 6,
   "id": "51e38107",
   "metadata": {},
   "outputs": [
    {
     "ename": "Exception",
     "evalue": "Nothing to save, because data parameter is empty",
     "output_type": "error",
     "traceback": [
      "\u001b[0;31m---------------------------------------------------------------------------\u001b[0m",
      "\u001b[0;31mException\u001b[0m                                 Traceback (most recent call last)",
      "Input \u001b[0;32mIn [6]\u001b[0m, in \u001b[0;36m<cell line: 1>\u001b[0;34m()\u001b[0m\n\u001b[0;32m----> 1\u001b[0m \u001b[38;5;28mprint\u001b[39m(\u001b[43manimals\u001b[49m\u001b[38;5;241;43m.\u001b[39;49m\u001b[43mcreate\u001b[49m\u001b[43m(\u001b[49m\u001b[38;5;28;43;01mNone\u001b[39;49;00m\u001b[43m)\u001b[49m)\n",
      "File \u001b[0;32m~/animal_shelter.py:51\u001b[0m, in \u001b[0;36mAnimalShelter.create\u001b[0;34m(self, data)\u001b[0m\n\u001b[1;32m     48\u001b[0m         \u001b[38;5;28;01mreturn\u001b[39;00m \u001b[38;5;28;01mFalse\u001b[39;00m   \n\u001b[1;32m     50\u001b[0m \u001b[38;5;28;01melse\u001b[39;00m:\n\u001b[0;32m---> 51\u001b[0m     \u001b[38;5;28;01mraise\u001b[39;00m \u001b[38;5;167;01mException\u001b[39;00m(\u001b[38;5;124m\"\u001b[39m\u001b[38;5;124mNothing to save, because data parameter is empty\u001b[39m\u001b[38;5;124m\"\u001b[39m)\n",
      "\u001b[0;31mException\u001b[0m: Nothing to save, because data parameter is empty"
     ]
    }
   ],
   "source": [
    "print(animals.create(None))"
   ]
  },
  {
   "cell_type": "code",
   "execution_count": 7,
   "id": "135f1499",
   "metadata": {},
   "outputs": [
    {
     "name": "stdout",
     "output_type": "stream",
     "text": [
      "{'_id': ObjectId('65bea8a145720e5328495f68'), 'age_upon_outcome': '5 years', 'animal_id': 'A55555', 'animal_type': 'Dog', 'breed': 'American Bulldog', 'color': 'White', 'date_of_birth': '2019-05-05', 'datetime': '2000-05-05 18:00:00', 'monthyear': '2000-05-05 18:00:00', 'name': 'Buddy', 'outcome_subtype': '', 'outcome_type': 'Adoption', 'sex_upon_outcome': 'unknown', 'location_lat': 32.1234567891234, 'location_long': -95.1234567891234, 'age_upon_outcome_in_weeks': 30.1234567891234}\n"
     ]
    }
   ],
   "source": [
    "query = animals.read({'name': \"Buddy\", \n",
    "                      'date_of_birth': \"2019-05-05\", \n",
    "                      'outcome_type': \"Adoption\" })\n",
    "for animal in query:\n",
    "    print(animal)"
   ]
  },
  {
   "cell_type": "code",
   "execution_count": 8,
   "id": "75c415ab",
   "metadata": {},
   "outputs": [
    {
     "name": "stdout",
     "output_type": "stream",
     "text": [
      "[]\n"
     ]
    }
   ],
   "source": [
    "print(list(animals.read({'name': \"BuddyBuddyBuddy\"})))"
   ]
  },
  {
   "cell_type": "code",
   "execution_count": 9,
   "id": "e848a442",
   "metadata": {},
   "outputs": [
    {
     "ename": "Exception",
     "evalue": "Nothing to read, because data parameter is empty",
     "output_type": "error",
     "traceback": [
      "\u001b[0;31m---------------------------------------------------------------------------\u001b[0m",
      "\u001b[0;31mException\u001b[0m                                 Traceback (most recent call last)",
      "Input \u001b[0;32mIn [9]\u001b[0m, in \u001b[0;36m<cell line: 1>\u001b[0;34m()\u001b[0m\n\u001b[0;32m----> 1\u001b[0m \u001b[38;5;28mprint\u001b[39m(\u001b[38;5;28mlist\u001b[39m(\u001b[43manimals\u001b[49m\u001b[38;5;241;43m.\u001b[39;49m\u001b[43mread\u001b[49m\u001b[43m(\u001b[49m\u001b[38;5;28;43;01mNone\u001b[39;49;00m\u001b[43m)\u001b[49m))\n",
      "File \u001b[0;32m~/animal_shelter.py:63\u001b[0m, in \u001b[0;36mAnimalShelter.read\u001b[0;34m(self, readData)\u001b[0m\n\u001b[1;32m     61\u001b[0m     data \u001b[38;5;241m=\u001b[39m \u001b[38;5;28mself\u001b[39m\u001b[38;5;241m.\u001b[39mdatabase\u001b[38;5;241m.\u001b[39manimals\u001b[38;5;241m.\u001b[39mfind(readData)  \n\u001b[1;32m     62\u001b[0m \u001b[38;5;28;01melse\u001b[39;00m:\n\u001b[0;32m---> 63\u001b[0m     \u001b[38;5;28;01mraise\u001b[39;00m \u001b[38;5;167;01mException\u001b[39;00m(\u001b[38;5;124m\"\u001b[39m\u001b[38;5;124mNothing to read, because data parameter is empty\u001b[39m\u001b[38;5;124m\"\u001b[39m)\n\u001b[1;32m     64\u001b[0m \u001b[38;5;28;01mreturn\u001b[39;00m data\n",
      "\u001b[0;31mException\u001b[0m: Nothing to read, because data parameter is empty"
     ]
    }
   ],
   "source": [
    "print(list(animals.read(None)))"
   ]
  },
  {
   "cell_type": "code",
   "execution_count": null,
   "id": "c53ff48a",
   "metadata": {},
   "outputs": [],
   "source": []
  }
 ],
 "metadata": {
  "kernelspec": {
   "display_name": "Python 3 (ipykernel)",
   "language": "python",
   "name": "python3"
  },
  "language_info": {
   "codemirror_mode": {
    "name": "ipython",
    "version": 3
   },
   "file_extension": ".py",
   "mimetype": "text/x-python",
   "name": "python",
   "nbconvert_exporter": "python",
   "pygments_lexer": "ipython3",
   "version": "3.11.4"
  }
 },
 "nbformat": 4,
 "nbformat_minor": 5
}
